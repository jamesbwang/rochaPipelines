{
 "cells": [
  {
   "cell_type": "code",
   "execution_count": 1,
   "metadata": {},
   "outputs": [],
   "source": [
    "# data to abstract as system arguments in script\n",
    "# TODO: include the chr number as a system argument\n",
    "oligos = \"data/oligo_sequences.txt\"\n",
    "data = \"data/DND41_MycCapture_merge_nodups.txt\"\n",
    "pickle = \"data/pickled_targetedInteractions.pkl\"\n",
    "aux = \"data/reader.txt\""
   ]
  },
  {
   "cell_type": "code",
   "execution_count": 2,
   "metadata": {},
   "outputs": [],
   "source": [
    "\n",
    "from os import path\n",
    "import pandas as pd\n",
    "\n",
    " #proof found here: https://stackoverflow.com/questions/3269434/whats-the-most-efficient-way-to-test-two-integer-ranges-for-overlap\n",
    "def range_intersect(range1, range2):\n",
    "    return range1[0] <= range2[1] and range2[0] <= range1[1]\n",
    "\n",
    "#case 1: building the entire thing from scratch\n",
    "if not path.exists(pickle) or not path.exists(aux):\n",
    "    #reading in the dataFrames is really heavy and can cause memory errors...\n",
    "    oligoTable = pd.read_csv(oligos, sep=\"\\t\", header=None, usecols=[0,1,2,3])\n",
    "    dataTable = pd.read_csv(data, sep=\" \", header=None, usecols=[1,2,5,6], prefix=\"X\")\n",
    "    #...but necessary to get the total number of interactions in the file\n",
    "    interactionCount = dataTable.shape[0]\n",
    "    #initial filter applied and instantly saved to .pkl file to save overhead later on\n",
    "    dataTable.query(\"X1 == 'chr8' | X5 == 'chr8'\", inplace=True)\n",
    "    #write interaction counts to file for further calculations\n",
    "    with open(aux, \"w\") as f:\n",
    "        f.write(\"Number of total read interactions: \" + str(interactionCount) + \"\\n\")\n",
    "    dataTable.to_pickle(pickle, compression='infer', protocol=4)\n",
    "#case 2: building the interactions from the .pkl files\n",
    "else:\n",
    "    #interaction Counts: read from the existing file\n",
    "    interactionCount = -1\n",
    "    with open(aux, \"r\") as f:\n",
    "        s = f.read()\n",
    "        interactionCount = int(s[34:s.find(\"\\n\")])\n",
    "#read space-negligible DataFrame\n",
    "oligoTable = pd.read_csv(oligos, sep=\"\\t\", header=None, usecols=[0,1,2,3])\n",
    "#read pkl\n",
    "dataTable = pd.read_pickle(pickle, compression='infer')\n",
    "    "
   ]
  },
  {
   "cell_type": "code",
   "execution_count": 3,
   "metadata": {},
   "outputs": [],
   "source": [
    "## construct the boundaries for further filtering\n",
    "boundsTable = pd.DataFrame({\"lowerBound\":[], \"upperBound\":[]})\n",
    "prevValue = -1\n",
    "for oligo in oligoTable.itertuples():\n",
    "    if oligo[0] %2 == 0:\n",
    "        prevValue = oligo[3]\n",
    "    else:\n",
    "        boundsTable = pd.concat([boundsTable, pd.DataFrame({\"lowerBound\":[int(prevValue)], \"upperBound\":[int(oligo[4])]})])\n",
    "# pickle to save computation later\n",
    "boundsTable.to_pickle(oligos[:-4] + \".pkl\", compression='infer', protocol=4)\n",
    "del oligoTable"
   ]
  },
  {
   "cell_type": "code",
   "execution_count": 4,
   "metadata": {},
   "outputs": [],
   "source": [
    "## count interactions for targeted interaction\n",
    "targetedInteractionCount = 0\n",
    "doubleCount = 0\n",
    "# implementation: brute force, but since territories=4, not too much of a big deal. \n",
    "# TODO: implement binary search over these ranges if territory numbers grow to be too big\n",
    "for interaction in dataTable.itertuples():\n",
    "    iLeft = False\n",
    "    iRight = False\n",
    "    for bound in boundsTable.itertuples():\n",
    "        # checks both interactor and interactee for fulfillment of criteria\n",
    "        if (range_intersect((interaction[2], interaction[2]+51), (bound[1], bound[2])) and interaction[1] == \"chr8\"):\n",
    "            targetedInteractionCount += 1\n",
    "            iLeft = True\n",
    "        if (range_intersect((interaction[4], interaction[4]+51), (bound[1], bound[2])) and interaction[3] == \"chr8\"):\n",
    "            targetedInteractionCount += 1\n",
    "            iRight = True\n",
    "    if iLeft and iRight:\n",
    "        doubleCount += 1\n",
    "## write results to file\n",
    "with open(aux, \"a\") as f:\n",
    "    f.write(\"Number of targeted interactions: \" + str(targetedInteractionCount) + \"\\n\")\n",
    "    f.write(\"Number of double-counted interactions: \" + str(doubleCount) + \"\\n\")\n",
    "    f.write(\"Normalized targeted interactions: \" + str(targetedInteractionCount/interactionCount) + \"\\n\")"
   ]
  },
  {
   "cell_type": "code",
   "execution_count": 5,
   "metadata": {},
   "outputs": [
    {
     "data": {
      "text/plain": [
       "745717"
      ]
     },
     "execution_count": 5,
     "metadata": {},
     "output_type": "execute_result"
    }
   ],
   "source": []
  },
  {
   "cell_type": "code",
   "execution_count": null,
   "metadata": {},
   "outputs": [],
   "source": []
  }
 ],
 "metadata": {
  "kernelspec": {
   "display_name": "Python 3",
   "language": "python",
   "name": "python3"
  },
  "language_info": {
   "codemirror_mode": {
    "name": "ipython",
    "version": 3
   },
   "file_extension": ".py",
   "mimetype": "text/x-python",
   "name": "python",
   "nbconvert_exporter": "python",
   "pygments_lexer": "ipython3",
   "version": "3.7.3"
  }
 },
 "nbformat": 4,
 "nbformat_minor": 2
}
