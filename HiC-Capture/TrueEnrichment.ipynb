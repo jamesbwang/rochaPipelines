{
 "cells": [
  {
   "cell_type": "code",
   "execution_count": 6,
   "metadata": {},
   "outputs": [
    {
     "name": "stdout",
     "output_type": "stream",
     "text": [
      "421415774\n"
     ]
    }
   ],
   "source": [
    "import pandas as pd\n",
    "import glob, os\n",
    "os.chdir(\"/Volumes/James/Merged_DND41_/\")\n",
    "noEnrichReads = 0\n",
    "with open(\"merged_nodups.txt.quality.txt\", \"r\") as f:\n",
    "    noEnrichReads = int(f.read()[34:])\n",
    "    print(noEnrichReads)"
   ]
  },
  {
   "cell_type": "code",
   "execution_count": 13,
   "metadata": {},
   "outputs": [],
   "source": [
    "total = 0\n",
    "for file in glob.glob(\"*.txt._*_.bed\"):\n",
    "    total += pd.read_csv(file, sep=\"\\t\", header=None).shape[0]"
   ]
  },
  {
   "cell_type": "code",
   "execution_count": 14,
   "metadata": {},
   "outputs": [
    {
     "data": {
      "text/plain": [
       "979"
      ]
     },
     "execution_count": 14,
     "metadata": {},
     "output_type": "execute_result"
    }
   ],
   "source": [
    "total"
   ]
  },
  {
   "cell_type": "code",
   "execution_count": 15,
   "metadata": {},
   "outputs": [
    {
     "name": "stdout",
     "output_type": "stream",
     "text": [
      "2.3231213931730995e-06\n"
     ]
    }
   ],
   "source": [
    "print(total/noEnrichReads)"
   ]
  },
  {
   "cell_type": "code",
   "execution_count": 17,
   "metadata": {},
   "outputs": [
    {
     "name": "stdout",
     "output_type": "stream",
     "text": [
      "DND41 true enrichment:\n"
     ]
    },
    {
     "data": {
      "text/plain": [
       "1226.5863306294307"
      ]
     },
     "execution_count": 17,
     "metadata": {},
     "output_type": "execute_result"
    }
   ],
   "source": [
    "print(\"DND41 true enrichment:\")\n",
    "0.002849508945258923/(total/noEnrichReads)"
   ]
  },
  {
   "cell_type": "code",
   "execution_count": 18,
   "metadata": {},
   "outputs": [
    {
     "name": "stdout",
     "output_type": "stream",
     "text": [
      "293_Aludelta true enrichment:\n",
      "1059.3995250612109\n"
     ]
    }
   ],
   "source": [
    "print(\"293_Aludelta true enrichment:\")\n",
    "print(0.00246111370058712/(total/noEnrichReads))"
   ]
  },
  {
   "cell_type": "code",
   "execution_count": null,
   "metadata": {},
   "outputs": [],
   "source": []
  }
 ],
 "metadata": {
  "kernelspec": {
   "display_name": "Python 3",
   "language": "python",
   "name": "python3"
  },
  "language_info": {
   "codemirror_mode": {
    "name": "ipython",
    "version": 3
   },
   "file_extension": ".py",
   "mimetype": "text/x-python",
   "name": "python",
   "nbconvert_exporter": "python",
   "pygments_lexer": "ipython3",
   "version": "3.7.3"
  }
 },
 "nbformat": 4,
 "nbformat_minor": 2
}
