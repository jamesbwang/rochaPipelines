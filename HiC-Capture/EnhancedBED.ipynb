{
 "cells": [
  {
   "cell_type": "code",
   "execution_count": 1,
   "metadata": {},
   "outputs": [],
   "source": [
    "# data to abstract as system arguments in script\n",
    "interPickle = \"data/pickled_targetedInteractions.pkl\"\n",
    "oligoPickle = \"data/oligo_sequences.pkl\"\n",
    "path = \"data/territory.bed\""
   ]
  },
  {
   "cell_type": "code",
   "execution_count": 2,
   "metadata": {},
   "outputs": [],
   "source": [
    "import pandas as pd\n",
    "# read pickles to save computation time\n",
    "interactions = pd.read_pickle(interPickle)\n",
    "bounds = pd.read_pickle(oligoPickle)"
   ]
  },
  {
   "cell_type": "code",
   "execution_count": 3,
   "metadata": {},
   "outputs": [],
   "source": [
    "# # split data by territory covered, using the same criteria of chromosome + intersecting ranges\n",
    "# # source: https://stackoverflow.com/questions/3269434/whats-the-most-efficient-way-to-test-two-integer-ranges-for-overlap\n",
    "# i = 0\n",
    "# total = 0\n",
    "# territoryInteractions = {}\n",
    "# for territory in bounds.itertuples():\n",
    "#     t1 = territory[1]\n",
    "#     t2 = territory[2]\n",
    "#     territoryInteractions[i] = interactions.query(\"(X1 == 'chr8' & X2 <= @t2 & @t1 <= (X2 + 51)) | (X5 == 'chr8' & X6 <= @t2 &  @t1 <= (X6 + 51))\", inplace=False)\n",
    "#     total += territoryInteractions[i].shape[0]\n",
    "#     i += 1\n",
    "# print(total)"
   ]
  },
  {
   "cell_type": "code",
   "execution_count": 4,
   "metadata": {},
   "outputs": [
    {
     "name": "stdout",
     "output_type": "stream",
     "text": [
      "361\n"
     ]
    }
   ],
   "source": [
    "## separate interactor/interactee pairs and filter out territory regions. \n",
    "## subsequent concatenation and generation of ends from \"start\" of oligos yields easy conversion to .bed files\n",
    "territoryInteractions = []\n",
    "total = 0\n",
    "for i in range(bounds.shape[0]):\n",
    "    territory = bounds.iloc[i]\n",
    "    t1 = territory[0]\n",
    "    t2 = territory[1]\n",
    "    i = territory.index\n",
    "    df = interactions[((interactions[\"X1\"] == 'chr8') & (interactions[\"X2\"] <= t2) & (t1 <= (interactions[\"X2\"] + 51))) | ((interactions[\"X5\"] == 'chr8') & (interactions[\"X6\"] <= t2) & (t1<=(interactions[\"X6\"] + 51)))]\n",
    "    #separation\n",
    "    df1 = df.iloc[:,:2]\n",
    "    df2 = df.iloc[:,2:]\n",
    "    #filtering\n",
    "    df2.columns = ['X1', 'X2']\n",
    "    df1 = df1[(df1[\"X1\"] != \"chr8\") | (df1[\"X2\"] > t2) | (df1[\"X2\"]+51 < t1)]\n",
    "    df2 = df2[(df2[\"X1\"] != \"chr8\") | (df2[\"X2\"] > t2) | (df2[\"X2\"]+51 < t1)]\n",
    "    total += (df.shape[0] - df1.shape[0] - df2.shape[0])\n",
    "    #concatenation\n",
    "    df = pd.concat([df1, df2], sort=False)\n",
    "    #end generation\n",
    "    df[\"X2\"] = (df[\"X2\"]/5).round(decimals=-3)*5\n",
    "    df[\"end\"] = df[\"X2\"] + 5000\n",
    "    territoryInteractions.append(df)\n",
    "print(total)"
   ]
  },
  {
   "cell_type": "code",
   "execution_count": 5,
   "metadata": {},
   "outputs": [],
   "source": [
    "# generation of bed files\n",
    "for i in range(len(territoryInteractions)):\n",
    "    territoryInteractions[i].to_csv(path_or_buf=path[:-4] + \"_\" + str(i) + \"_\" + path[-4:], sep='\\t', na_rep='', float_format=\"%.f\", columns=None, header=False, index=False, index_label=None, mode='w', encoding=None, compression='infer', quoting=None, quotechar='\"', line_terminator=None, chunksize=None, tupleize_cols=None, date_format=None, doublequote=True, escapechar=None, decimal='.')"
   ]
  },
  {
   "cell_type": "code",
   "execution_count": null,
   "metadata": {},
   "outputs": [],
   "source": []
  },
  {
   "cell_type": "code",
   "execution_count": null,
   "metadata": {},
   "outputs": [],
   "source": []
  },
  {
   "cell_type": "code",
   "execution_count": null,
   "metadata": {},
   "outputs": [],
   "source": []
  }
 ],
 "metadata": {
  "kernelspec": {
   "display_name": "Python 3",
   "language": "python",
   "name": "python3"
  },
  "language_info": {
   "codemirror_mode": {
    "name": "ipython",
    "version": 3
   },
   "file_extension": ".py",
   "mimetype": "text/x-python",
   "name": "python",
   "nbconvert_exporter": "python",
   "pygments_lexer": "ipython3",
   "version": "3.7.3"
  }
 },
 "nbformat": 4,
 "nbformat_minor": 2
}
