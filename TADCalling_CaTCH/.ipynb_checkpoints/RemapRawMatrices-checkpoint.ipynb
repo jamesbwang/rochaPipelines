{
 "cells": [
  {
   "cell_type": "code",
   "execution_count": 1,
   "metadata": {},
   "outputs": [],
   "source": [
    "import pandas as pd\n",
    "import sys\n",
    "from pathlib import Path\n",
    "import numpy as np\n",
    "binMap = \"data/inter.abs.bed\"\n",
    "matrix = \"temp/8.8.matrix\"\n",
    "chroms = [\"chr\" + str(int(s)) for s in Path(matrix).name.split(\".\") if s.isdigit()]"
   ]
  },
  {
   "cell_type": "code",
   "execution_count": 2,
   "metadata": {},
   "outputs": [],
   "source": [
    "binMapDf = pd.read_csv(binMap, sep=\"\\t\", names=[\"chr\", \"start\", \"end\", \"binNo\"], usecols=[\"chr\", \"start\", \"binNo\"], index_col=False)\n",
    "matrixDf = pd.read_csv(matrix, sep=\"\\t\", names=[\"start1\", \"start2\", \"score\"], index_col=False)"
   ]
  },
  {
   "cell_type": "code",
   "execution_count": 3,
   "metadata": {},
   "outputs": [],
   "source": [
    "binMapDf[\"key\"] = binMapDf[\"chr\"] + \"_\" + binMapDf[\"start\"].astype(str)\n",
    "bins = binMapDf.set_index([\"key\"]).to_dict()[\"binNo\"]"
   ]
  },
  {
   "cell_type": "code",
   "execution_count": 4,
   "metadata": {},
   "outputs": [],
   "source": [
    "matrixDf[\"bin1\"] = matrixDf[\"start1\"].apply(lambda x: bins.get(chroms[0]+ \"_\" + str(x)))\n",
    "matrixDf[\"bin2\"] = matrixDf[\"start2\"].apply(lambda x: bins.get(chroms[1] + \"_\" + str(x)))"
   ]
  },
  {
   "cell_type": "code",
   "execution_count": 10,
   "metadata": {},
   "outputs": [],
   "source": [
    "\n",
    "\n",
    "matrixDf[(matrixDf != 0).all(1)].dropna().sort_values(by=[\"bin1\", \"bin2\"]).groupby(['bin1','bin2'], as_index=False)['score'].sum().to_csv(matrix + \".sorted.matrix\", sep=\"\\t\", columns=[\"bin1\", \"bin2\", \"score\"], header=False, index=False)\n",
    "\n",
    "                                                \n",
    "                                                \n",
    "                                                \n",
    "                                                "
   ]
  },
  {
   "cell_type": "code",
   "execution_count": null,
   "metadata": {},
   "outputs": [],
   "source": []
  }
 ],
 "metadata": {
  "kernelspec": {
   "display_name": "Python 3",
   "language": "python",
   "name": "python3"
  },
  "language_info": {
   "codemirror_mode": {
    "name": "ipython",
    "version": 3
   },
   "file_extension": ".py",
   "mimetype": "text/x-python",
   "name": "python",
   "nbconvert_exporter": "python",
   "pygments_lexer": "ipython3",
   "version": "3.7.3"
  }
 },
 "nbformat": 4,
 "nbformat_minor": 2
}
