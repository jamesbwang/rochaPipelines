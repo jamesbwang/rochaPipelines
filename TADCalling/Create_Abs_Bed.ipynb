{
 "cells": [
  {
   "cell_type": "code",
   "execution_count": 1,
   "metadata": {},
   "outputs": [],
   "source": [
    "import pandas as pd\n",
    "path = \"./data/inter.hic\"\n",
    "sizes = \"./data/chrom.sizes\"\n",
    "binSize = 5000"
   ]
  },
  {
   "cell_type": "code",
   "execution_count": 2,
   "metadata": {},
   "outputs": [],
   "source": [
    "df = pd.read_csv(sizes, sep=\"\\t\", names=[\"chr\", \"sizes\"])"
   ]
  },
  {
   "cell_type": "code",
   "execution_count": null,
   "metadata": {},
   "outputs": [],
   "source": []
  },
  {
   "cell_type": "code",
   "execution_count": 3,
   "metadata": {},
   "outputs": [],
   "source": [
    "df = df[df[\"chr\"].str.match(\"chr\\d{0,2}$\")]"
   ]
  },
  {
   "cell_type": "code",
   "execution_count": 4,
   "metadata": {},
   "outputs": [],
   "source": [
    "df = df.assign(sortkey=df.chr.str[3:].astype(int)).sort_values(by=['sortkey']).drop(\"sortkey\", axis=1)"
   ]
  },
  {
   "cell_type": "code",
   "execution_count": 5,
   "metadata": {},
   "outputs": [],
   "source": [
    "li = []\n",
    "for i in df.itertuples():\n",
    "    li.append(pd.DataFrame({\"chr\": [i[1] for j in range(int(i[2]/binSize))], \"start\": [j*binSize for j in range(0,int(i[2]/binSize))], \"end\": [j*binSize+binSize for j in range(0, int(i[2]/binSize))]}))\n",
    "    li[-1] = li[-1].append(pd.DataFrame({\"chr\": [i[1]], \"start\": int(i[2]/binSize)*binSize, \"end\": i[2]}))\n"
   ]
  },
  {
   "cell_type": "code",
   "execution_count": null,
   "metadata": {},
   "outputs": [],
   "source": []
  },
  {
   "cell_type": "code",
   "execution_count": 6,
   "metadata": {},
   "outputs": [],
   "source": [
    "returnDf = pd.concat(li)\n",
    "returnDf[\"index\"] = [i+1 for i in range(returnDf.shape[0])]"
   ]
  },
  {
   "cell_type": "code",
   "execution_count": 7,
   "metadata": {},
   "outputs": [],
   "source": [
    "returnDf.to_csv(path[:-3] + \"abs.bed\", sep=\"\\t\", header=False, index=False)"
   ]
  },
  {
   "cell_type": "code",
   "execution_count": null,
   "metadata": {},
   "outputs": [],
   "source": []
  }
 ],
 "metadata": {
  "kernelspec": {
   "display_name": "Python 3",
   "language": "python",
   "name": "python3"
  },
  "language_info": {
   "codemirror_mode": {
    "name": "ipython",
    "version": 3
   },
   "file_extension": ".py",
   "mimetype": "text/x-python",
   "name": "python",
   "nbconvert_exporter": "python",
   "pygments_lexer": "ipython3",
   "version": "3.7.3"
  }
 },
 "nbformat": 4,
 "nbformat_minor": 2
}
